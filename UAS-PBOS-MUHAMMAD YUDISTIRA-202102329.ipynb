{
 "cells": [
  {
   "cell_type": "code",
   "execution_count": 13,
   "id": "45ec07c3",
   "metadata": {
    "scrolled": true
   },
   "outputs": [
    {
     "name": "stdout",
     "output_type": "stream",
     "text": [
      "Panjang =6\n",
      "Lebar = 8\n",
      "\n",
      "Hasil Perhitungannya adalah :\n",
      "Keliling :  28\n",
      "Luas    :  48\n"
     ]
    }
   ],
   "source": [
    "#no1\n",
    "pjg = int(input(\"Panjang =\"))\n",
    "lbr = int(input(\"Lebar = \"))\n",
    "\n",
    "def no_1(pjg,lbr):\n",
    "    keliling = (2*pjg) + (2*lbr)\n",
    "    luas = (pjg * lbr)\n",
    "    print(\"\\nHasil Perhitungannya adalah :\")\n",
    "    print(\"Keliling : \", keliling);\n",
    "    print (\"Luas    : \", luas)\n",
    "    \n",
    "no_1(pjg, lbr)"
   ]
  },
  {
   "cell_type": "code",
   "execution_count": 32,
   "id": "85cdef34",
   "metadata": {},
   "outputs": [
    {
     "name": "stdout",
     "output_type": "stream",
     "text": [
      "Nama   : yud\n",
      "Alamat : darenante\n",
      "NIM    : 23002\n",
      "\n",
      "\n",
      "Berikut merupakan data diri yang telah diinput \n",
      "Nama   :  yud\n",
      "Alamat :  darenante\n",
      "NIM    :  23002\n"
     ]
    }
   ],
   "source": [
    "#no2\n",
    "class biodata():\n",
    "    def _init_(self,nama,alamat, nim):\n",
    "        \n",
    "        print(\"Inputkan Biodata Anda\")\n",
    "        \n",
    "    def input(self):\n",
    "        self.nama = input(\"Nama   : \")\n",
    "        self.alamat = input(\"Alamat : \")\n",
    "        self.nim = input(\"NIM    : \")\n",
    "        \n",
    "class data_diri(biodata):\n",
    "    def cetak(self):\n",
    "        print (\"\\n\\nBerikut merupakan data diri yang telah diinput \")\n",
    "        print (\"Nama   : \", self.nama)\n",
    "        print (\"Alamat : \", self.alamat)\n",
    "        print (\"NIM    : \", self.nim)\n",
    "        \n",
    "data = data_diri()\n",
    "data.input()\n",
    "data.cetak()"
   ]
  },
  {
   "cell_type": "code",
   "execution_count": null,
   "id": "2463e8d7",
   "metadata": {},
   "outputs": [
    {
     "name": "stdout",
     "output_type": "stream",
     "text": [
      "1. Tambah\n",
      "2. Kurang\n",
      "3. Kali\n",
      "4. Bagi\n",
      "5. Keluar\n",
      "Pilih operasi :2\n",
      "\n",
      "Masukkan Angka Pertama :22\n",
      "\n",
      "Masukkan Angka Kedua   :22\n",
      "22 - 22 = 0\n",
      "1. Tambah\n",
      "2. Kurang\n",
      "3. Kali\n",
      "4. Bagi\n",
      "5. Keluar\n"
     ]
    }
   ],
   "source": [
    "#no3\n",
    "class calculator:\n",
    "    def tambah(self, x, y):\n",
    "        return x+y\n",
    "    def kurang(self, x, y):\n",
    "        return x-y\n",
    "    def kali(self, x, y):\n",
    "        return x*y\n",
    "    def bagi(self, x, y):\n",
    "        return x/y\n",
    "    \n",
    "kalkulatorku = calculator()\n",
    "\n",
    "while True:\n",
    "    print(\"1. Tambah\")\n",
    "    print(\"2. Kurang\")\n",
    "    print(\"3. Kali\")\n",
    "    print(\"4. Bagi\")\n",
    "    print(\"5. Keluar\")\n",
    "    \n",
    "    ch = int(input(\"Pilih operasi :\"))\n",
    "    \n",
    "    if ch in (1, 2, 3, 4, 5):\n",
    "        if(ch==5):\n",
    "            break\n",
    "            \n",
    "        x= int(input(\"\\nMasukkan Angka Pertama :\"))\n",
    "        y= int(input(\"\\nMasukkan Angka Kedua   :\"))\n",
    "        \n",
    "        if(ch==1):\n",
    "            print(x, \"+\", y, \"=\", kalkulatorku.tambah(x,y))\n",
    "            \n",
    "        elif(ch==2):\n",
    "            print(x, \"-\", y, \"=\", kalkulatorku.kurang(x,y))\n",
    "            \n",
    "        elif(ch==3):\n",
    "            print(x,\"x\", y,\"=\", kalkulatorku.kali(x,y))\n",
    "            \n",
    "        elif(ch==4):\n",
    "            print(x,\":\", y,\"=\", kalkulatorku.bagi(x,y))\n",
    "            \n",
    "    else:\n",
    "        print(\"Invalid Input\")"
   ]
  },
  {
   "cell_type": "code",
   "execution_count": null,
   "id": "e94a24e5",
   "metadata": {},
   "outputs": [],
   "source": []
  },
  {
   "cell_type": "code",
   "execution_count": null,
   "id": "467b5fdc",
   "metadata": {},
   "outputs": [],
   "source": []
  },
  {
   "cell_type": "code",
   "execution_count": null,
   "id": "862248c8",
   "metadata": {},
   "outputs": [],
   "source": []
  },
  {
   "cell_type": "code",
   "execution_count": null,
   "id": "05867f00",
   "metadata": {},
   "outputs": [],
   "source": []
  },
  {
   "cell_type": "code",
   "execution_count": null,
   "id": "356e52d7",
   "metadata": {},
   "outputs": [],
   "source": []
  },
  {
   "cell_type": "code",
   "execution_count": null,
   "id": "f125c2d7",
   "metadata": {},
   "outputs": [],
   "source": []
  }
 ],
 "metadata": {
  "kernelspec": {
   "display_name": "Python 3",
   "language": "python",
   "name": "python3"
  },
  "language_info": {
   "codemirror_mode": {
    "name": "ipython",
    "version": 3
   },
   "file_extension": ".py",
   "mimetype": "text/x-python",
   "name": "python",
   "nbconvert_exporter": "python",
   "pygments_lexer": "ipython3",
   "version": "3.8.8"
  }
 },
 "nbformat": 4,
 "nbformat_minor": 5
}
